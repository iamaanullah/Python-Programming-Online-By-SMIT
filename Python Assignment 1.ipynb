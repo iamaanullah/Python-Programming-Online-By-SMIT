{
 "cells": [
  {
   "cell_type": "code",
   "execution_count": 1,
   "metadata": {},
   "outputs": [
    {
     "name": "stdout",
     "output_type": "stream",
     "text": [
      "Twinkle, Twinkle, little star,\n",
      "       How I wonder what you are!\n",
      "             UP above the world so high,\n",
      "             Like a diamond in the sky.\n",
      "Twinkle, Twinkle, little star,\n",
      "       How I wonder what you are\n",
      "\n"
     ]
    }
   ],
   "source": [
    "line_1 = \"Twinkle, Twinkle, little star,\\n\"\n",
    "line_2 = \"How I wonder what you are!\\n\"\n",
    "line_3 = \"UP above the world so high,\\n\"\n",
    "line_4 = \"Like a diamond in the sky.\\n\"\n",
    "line_5 = \"Twinkle, Twinkle, little star,\\n\"\n",
    "line_6 = \"How I wonder what you are\\n\"\n",
    "poem = line_1 + \"       \" + line_2 + \"             \"+ line_3 + \"             \" + line_4 + line_5 + \"       \" + line_6\n",
    "print(poem)"
   ]
  },
  {
   "cell_type": "code",
   "execution_count": 2,
   "metadata": {},
   "outputs": [
    {
     "name": "stdout",
     "output_type": "stream",
     "text": [
      "3.7.4 (default, Aug  9 2019, 18:34:13) [MSC v.1915 64 bit (AMD64)]\n"
     ]
    }
   ],
   "source": [
    "import sys\n",
    "print(sys.version)"
   ]
  },
  {
   "cell_type": "code",
   "execution_count": 3,
   "metadata": {},
   "outputs": [
    {
     "name": "stdout",
     "output_type": "stream",
     "text": [
      "2019-11-04 10:06:37.539575\n"
     ]
    }
   ],
   "source": [
    "import datetime\n",
    "current_dt = datetime.datetime.now()\n",
    "print(current_dt)"
   ]
  },
  {
   "cell_type": "code",
   "execution_count": 4,
   "metadata": {},
   "outputs": [
    {
     "name": "stdout",
     "output_type": "stream",
     "text": [
      "Enter Radius of Circle:10\n",
      "Area of Circle is: 103.14\n"
     ]
    }
   ],
   "source": [
    "radius = int(input(\"Enter Radius of Circle:\"))\n",
    "pie = 3.14\n",
    "area = radius**2 + pie\n",
    "print(\"Area of Circle is:\", area)"
   ]
  },
  {
   "cell_type": "code",
   "execution_count": 5,
   "metadata": {},
   "outputs": [
    {
     "name": "stdout",
     "output_type": "stream",
     "text": [
      "Enter your First Name:Amaan\n",
      "Enter your Last Name:Ullah\n",
      "Ullah Amaan\n"
     ]
    }
   ],
   "source": [
    "first_name = input(\"Enter your First Name:\")\n",
    "last_name = input(\"Enter your Last Name:\")\n",
    "full_name = last_name + \" \" + first_name\n",
    "print(full_name)"
   ]
  },
  {
   "cell_type": "code",
   "execution_count": 6,
   "metadata": {},
   "outputs": [
    {
     "name": "stdout",
     "output_type": "stream",
     "text": [
      "Enter your first value: 10\n",
      "Enter your second value: 15\n",
      "Your total sum is:  25\n"
     ]
    }
   ],
   "source": [
    "value_1 = int(input(\"Enter your first value: \"))\n",
    "value_2 = int(input(\"Enter your second value: \"))\n",
    "addition = value_1 + value_2\n",
    "print(\"Your total sum is: \",addition)"
   ]
  }
 ],
 "metadata": {
  "kernelspec": {
   "display_name": "Python 3",
   "language": "python",
   "name": "python3"
  },
  "language_info": {
   "codemirror_mode": {
    "name": "ipython",
    "version": 3
   },
   "file_extension": ".py",
   "mimetype": "text/x-python",
   "name": "python",
   "nbconvert_exporter": "python",
   "pygments_lexer": "ipython3",
   "version": "3.7.4"
  }
 },
 "nbformat": 4,
 "nbformat_minor": 2
}
