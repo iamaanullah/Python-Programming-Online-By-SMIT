{
 "cells": [
  {
   "cell_type": "code",
   "execution_count": 1,
   "metadata": {},
   "outputs": [
    {
     "name": "stdout",
     "output_type": "stream",
     "text": [
      "Enter your number to calculate factorial: 10\n",
      "The factorial of 10 is 3628800\n"
     ]
    }
   ],
   "source": [
    "#Q.1-Assignment 5\n",
    "num = int(input(\"Enter your number to calculate factorial: \"))\n",
    "factorial = 1\n",
    "if num < 0:\n",
    "   print(\"Sorry, factorial does not exist for negative numbers\")\n",
    "else:\n",
    "   for x in range(1,num + 1):\n",
    "       factorial = factorial*x\n",
    "   print(\"The factorial of\",num,\"is\",factorial)"
   ]
  },
  {
   "cell_type": "code",
   "execution_count": 1,
   "metadata": {},
   "outputs": [
    {
     "name": "stdout",
     "output_type": "stream",
     "text": [
      "Enter your string: mY naMe is amAAn ULLaH\n",
      "No. of Upper case characters :  8\n",
      "No. of Lower case Characters :  10\n"
     ]
    }
   ],
   "source": [
    "#Q.2-Assignment 5\n",
    "def string_test(s):\n",
    "    a={\"UPPER_CASE\":0, \"LOWER_CASE\":0}\n",
    "    for c in s:\n",
    "        if c.isupper():\n",
    "           a[\"UPPER_CASE\"]+=1\n",
    "        elif c.islower():\n",
    "           a[\"LOWER_CASE\"]+=1\n",
    "        else:\n",
    "           pass\n",
    "    print (\"No. of Upper case characters : \", a[\"UPPER_CASE\"])\n",
    "    print (\"No. of Lower case Characters : \", a[\"LOWER_CASE\"])\n",
    "s = input(\"Enter your string: \")\n",
    "\n",
    "string_test(s)"
   ]
  },
  {
   "cell_type": "code",
   "execution_count": 2,
   "metadata": {},
   "outputs": [
    {
     "name": "stdout",
     "output_type": "stream",
     "text": [
      "2\n",
      "4\n",
      "6\n",
      "8\n",
      "10\n"
     ]
    }
   ],
   "source": [
    "#Q.3-Assignment 5\n",
    "def even_num():\n",
    "    list1 = [1,2,3,4,5,6,7,8,9,10]\n",
    "    for num in list1:\n",
    "        if num % 2==0:\n",
    "            print(num)\n",
    "even_num()"
   ]
  },
  {
   "cell_type": "code",
   "execution_count": 1,
   "metadata": {},
   "outputs": [
    {
     "name": "stdout",
     "output_type": "stream",
     "text": [
      "Enter your word: civic\n",
      "The string is a palindrome.\n"
     ]
    }
   ],
   "source": [
    "#Q.4-Assignment 5\n",
    "def palin():\n",
    "    check_palin = input(\"Enter your word: \")\n",
    "    check_palin = check_palin.casefold()\n",
    "    rev_palin = reversed(check_palin)\n",
    "    if list(check_palin) == list(rev_palin):\n",
    "        print(\"The string is a palindrome.\")\n",
    "    else:\n",
    "        print(\"The string is not a palindrome.\")\n",
    "palin()"
   ]
  },
  {
   "cell_type": "code",
   "execution_count": 2,
   "metadata": {},
   "outputs": [
    {
     "name": "stdout",
     "output_type": "stream",
     "text": [
      "Enter your number: 103\n",
      "103 is a prime number\n"
     ]
    }
   ],
   "source": [
    "#Q.5-Assignment 5\n",
    "def prime_num():\n",
    "    num = int(input(\"Enter your number: \"))\n",
    "    if num > 1:\n",
    "        for i in range(2,num//1):\n",
    "            if(num % i) == 0:\n",
    "                print(num,\"is not a prime number\")\n",
    "                break\n",
    "            else:\n",
    "                print(num,\"is a prime number\")\n",
    "                break\n",
    "                \n",
    "prime_num()"
   ]
  },
  {
   "cell_type": "code",
   "execution_count": 3,
   "metadata": {},
   "outputs": [
    {
     "name": "stdout",
     "output_type": "stream",
     "text": [
      "watch\n",
      "wallet\n",
      "shoes\n",
      "laptop\n"
     ]
    }
   ],
   "source": [
    "#Q.6-Assignment 5\n",
    "def shop_list(*list_of_items):\n",
    "    for item in list_of_items:\n",
    "        print(item)\n",
    "shop_list(\"watch\", \"wallet\", \"shoes\", \"laptop\")"
   ]
  }
 ],
 "metadata": {
  "kernelspec": {
   "display_name": "Python 3",
   "language": "python",
   "name": "python3"
  },
  "language_info": {
   "codemirror_mode": {
    "name": "ipython",
    "version": 3
   },
   "file_extension": ".py",
   "mimetype": "text/x-python",
   "name": "python",
   "nbconvert_exporter": "python",
   "pygments_lexer": "ipython3",
   "version": "3.7.4"
  }
 },
 "nbformat": 4,
 "nbformat_minor": 2
}
