{
 "cells": [
  {
   "cell_type": "code",
   "execution_count": 2,
   "metadata": {},
   "outputs": [
    {
     "name": "stdout",
     "output_type": "stream",
     "text": [
      "Enter your first value:10\n",
      "Enter your operator:**\n",
      "Enter your second value:3\n",
      "Your answer is: 1000\n"
     ]
    }
   ],
   "source": [
    "#question 1\n",
    "value_1 = int(input(\"Enter your first value:\"))\n",
    "operator = input(\"Enter your operator:\")\n",
    "value_2 = int(input(\"Enter your second value:\"))\n",
    "\n",
    "if operator == '+':\n",
    "    val = value_1 + value_2\n",
    "    print(\"Your answer is:\", val)\n",
    "elif operator == '-':\n",
    "    val = value_1 - value_2\n",
    "    print(\"Your answer is:\", val)\n",
    "elif operator == '*':\n",
    "    val = value_1 * value_2\n",
    "    print(\"Your answer is:\", val)\n",
    "elif operator == '/':\n",
    "    val = value_1 / value_2\n",
    "    print(\"Your answer is:\", val)\n",
    "elif operator == '**':\n",
    "    val = value_1 ** value_2\n",
    "    print(\"Your answer is:\", val)\n",
    "else:\n",
    "    print(\"Error! Check your operator and try again\")"
   ]
  },
  {
   "cell_type": "code",
   "execution_count": 3,
   "metadata": {},
   "outputs": [
    {
     "name": "stdout",
     "output_type": "stream",
     "text": [
      "Enter your numeric value:20\n",
      "Your list does not contain numeric values\n",
      "Your list does not contain numeric values\n",
      "Your list does not contain numeric values\n",
      "Your list contains numeric values\n"
     ]
    }
   ],
   "source": [
    "#question 2\n",
    "check_num = [0, 10, \"amaan\", 20, 30, \"saylani\"]\n",
    "val = int(input(\"Enter your numeric value:\"))\n",
    "for num in check_num:\n",
    "    if val == num:\n",
    "        print(\"Your list contains numeric values\")\n",
    "        break\n",
    "    else:\n",
    "        print(\"Your list does not contain numeric values\")"
   ]
  },
  {
   "cell_type": "code",
   "execution_count": 4,
   "metadata": {},
   "outputs": [
    {
     "name": "stdout",
     "output_type": "stream",
     "text": [
      "{'first name': 'amaan', 'last name': 'ullah', 'address': 'karachi', 'course': 'python from saylani', 'teacher': 'Muhammad ali mughal'}\n"
     ]
    }
   ],
   "source": [
    "#question 3\n",
    "bio_data = {\n",
    "    \"first name\": \"amaan\",\n",
    "    \"last name\": \"ullah\",\n",
    "    \"address\": \"karachi\",\n",
    "    \"course\": \"python from saylani\"\n",
    "}\n",
    "bio_data[\"teacher\"] = 'Muhammad ali mughal'\n",
    "print(bio_data)"
   ]
  },
  {
   "cell_type": "code",
   "execution_count": 5,
   "metadata": {},
   "outputs": [
    {
     "name": "stdout",
     "output_type": "stream",
     "text": [
      "60\n"
     ]
    }
   ],
   "source": [
    "#question 4\n",
    "numeric_items = {\n",
    "    \"value 1\": 10,\n",
    "    \"value 2\": 20,\n",
    "    \"value 3\": 30,\n",
    "}\n",
    "print(sum(numeric_items.values()))"
   ]
  },
  {
   "cell_type": "code",
   "execution_count": 6,
   "metadata": {},
   "outputs": [
    {
     "name": "stdout",
     "output_type": "stream",
     "text": [
      "key does not exist\n"
     ]
    }
   ],
   "source": [
    "#question 6\n",
    "check_key = {\"a\": 10, \"b\": 20, \"c\": 30}\n",
    "if \"d\" in check_key:\n",
    "    print(\"key exists\")\n",
    "else:\n",
    "    print(\"key does not exist\")"
   ]
  },
  {
   "cell_type": "code",
   "execution_count": 8,
   "metadata": {},
   "outputs": [
    {
     "name": "stdout",
     "output_type": "stream",
     "text": [
      "[3, 9, 12]\n"
     ]
    }
   ],
   "source": [
    "#question 5\n",
    "a_list = [ 3, 6, 9, 12, 3, 30, 15, 9, 45, 36, 12, 12]\n",
    "dup_items = []\n",
    "uniq_items = {}\n",
    "for x in a_list:\n",
    "   if x not in uniq_items:\n",
    "      uniq_items[x] = 1\n",
    "   else:\n",
    "      if uniq_items[x] == 1:\n",
    "         dup_items.append(x)\n",
    "      uniq_items[x] += 1\n",
    "print(dup_items)"
   ]
  }
 ],
 "metadata": {
  "kernelspec": {
   "display_name": "Python 3",
   "language": "python",
   "name": "python3"
  },
  "language_info": {
   "codemirror_mode": {
    "name": "ipython",
    "version": 3
   },
   "file_extension": ".py",
   "mimetype": "text/x-python",
   "name": "python",
   "nbconvert_exporter": "python",
   "pygments_lexer": "ipython3",
   "version": "3.7.4"
  }
 },
 "nbformat": 4,
 "nbformat_minor": 2
}
